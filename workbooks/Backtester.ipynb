{
 "metadata": {
  "language_info": {
   "codemirror_mode": {
    "name": "ipython",
    "version": 3
   },
   "file_extension": ".py",
   "mimetype": "text/x-python",
   "name": "python",
   "nbconvert_exporter": "python",
   "pygments_lexer": "ipython3",
   "version": "3.7.6"
  },
  "orig_nbformat": 2,
  "kernelspec": {
   "name": "python376jvsc74a57bd0051b3c9a86f7777a369bc4e854203663a9137e925908725807819b23aaa44bbe",
   "display_name": "Python 3.7.6 64-bit ('base': conda)"
  }
 },
 "nbformat": 4,
 "nbformat_minor": 2,
 "cells": [
  {
   "cell_type": "code",
   "execution_count": 7,
   "metadata": {},
   "outputs": [],
   "source": [
    "import os\n",
    "import sys\n",
    "module_path = os.path.abspath(os.path.join('..'))\n",
    "if module_path not in sys.path:\n",
    "    sys.path.append(module_path)\n",
    "\n",
    "import numpy as np\n",
    "import matplotlib.pyplot as plt\n",
    "import matplotlib as mpl\n",
    "import pandas as pd\n",
    "import backtrader as bt\n",
    "import backtrader.feeds as btfeeds\n",
    "from pathlib import Path\n",
    "import datetime\n",
    "import csv\n",
    "\n",
    "from workspace.lib.utils import construct_csv_path, write_to_csv, merge_csv\n",
    "from workspace.lib.scraper import get_candles, get_exchange\n",
    "\n",
    "exchange_id = 'ftx'\n",
    "pair = 'BTC-PERP'\n",
    "timeframe = '5m'\n",
    "\n",
    "base_path = Path('../data/')\n",
    "full_path = construct_csv_path(base_path, exchange_id, pair, timeframe)\n",
    "\n",
    "data = btfeeds.GenericCSVData(\n",
    "    dataname=full_path,\n",
    "    timeframe=bt.TimeFrame.Minutes, compression=5,  # for 5 min candles?\n",
    "    dtformat=lambda x: datetime.datetime.utcfromtimestamp(int(x) // 1000),\n",
    "    openinterest=-1\n",
    ")\n",
    "\n",
    "def _get_data(from_datetime, to_datetime):\n",
    "    exchange = get_exchange(exchange_id)\n",
    "    candles = get_candles(exchange, pair, timeframe, from_datetime, to_datetime, logger=print)\n",
    "    return candles\n",
    "\n",
    "def get_and_merge_data(from_datetime, to_datetime):\n",
    "    candles = _get_data(from_datetime, to_datetime)\n",
    "    print(candles[-1][0])\n",
    "    merge_csv(full_path, candles)\n",
    "    return candles\n",
    "\n",
    "def get_and_overwrite_data(from_datetime, to_datetime):\n",
    "    candles = _get_data(from_datetime, to_datetime)\n",
    "    write_to_csv(full_path, candles)\n",
    "    return candles\n"
   ]
  },
  {
   "cell_type": "code",
   "execution_count": 8,
   "metadata": {},
   "outputs": [],
   "source": [
    "def runStrategy(data, stratClass, params):\n",
    "    cerebro = bt.Cerebro()\n",
    "    cerebro.addstrategy(stratClass, **params)\n",
    "    cerebro.adddata(data)\n",
    "    cerebro.broker.setcash(10000.0)\n",
    "    cerebro.broker.setcommission(commission=0.0007)\n",
    "\n",
    "    print('Starting portfolio value: %.2f' % (cerebro.broker.getvalue()))\n",
    "    cerebro.run()\n",
    "    print('Final value: %.2f' % (cerebro.broker.getvalue()))\n",
    "\n",
    "    return cerebro  # do what you want with it eg plot\n",
    "\n",
    "    "
   ]
  },
  {
   "cell_type": "code",
   "execution_count": 9,
   "metadata": {},
   "outputs": [],
   "source": [
    "class NoopStrat(bt.Strategy):\n",
    "    # Strat class that only logs and passes params\n",
    "    params = (\n",
    "        ('minutes', 0),\n",
    "    )\n",
    "    \n",
    "    def __init__(self):\n",
    "        print('Logging every %s minutes' % self.params.minutes)\n",
    "\n",
    "    def log(self, txt, dt=None):\n",
    "        dt = dt or self.datas[0].datetime.datetime(0)\n",
    "        print('%s, %s' % (dt.isoformat(), txt))\n",
    "    \n",
    "    def next(self):\n",
    "        time = self.datas[0].datetime.time(0)\n",
    "        if time.minute % self.params.minutes == 0:\n",
    "            self.log('Close: %s' % self.datas[0].close[0])\n",
    "        "
   ]
  },
  {
   "source": [
    "cerebro = runStrategy(data, NoopStrat, {\n",
    "    'minutes': 60\n",
    "})  # Todo: limit to only certain time"
   ],
   "cell_type": "code",
   "metadata": {
    "tags": [
     "outputPrepend"
    ]
   },
   "execution_count": null,
   "outputs": []
  },
  {
   "source": [
    "## Strategy testing\n",
    "\n",
    "Define a function that takes a strategy and runs it across several backtest timeframes sequentially"
   ],
   "cell_type": "markdown",
   "metadata": {}
  },
  {
   "source": [
    "First we ensure we have enough data in our feed. Naive for now -- does not take into account different timeperiods in the year, just a blanket X days before the present"
   ],
   "cell_type": "markdown",
   "metadata": {}
  },
  {
   "cell_type": "code",
   "execution_count": 14,
   "metadata": {},
   "outputs": [],
   "source": [
    "test_period_in_days = 31\n",
    "num_periods = 8\n",
    "offset_in_days = 31 * 3  # leave 3 months in front for possible walk forward analysis?\n",
    "\n",
    "_delta = datetime.timedelta(days=test_period_in_days * num_periods + offset_in_days)\n",
    "earliest_required_timestamp = datetime.datetime.now() - _delta\n",
    "oldest_available_timestamp = None\n",
    "\n",
    "# Read first line of csv and check if its earlier than the earliest required date\n",
    "try:\n",
    "    with full_path.open('r') as f:\n",
    "        reader = csv.reader(f)\n",
    "        headers = next(reader)\n",
    "        row1 = next(reader)\n",
    "        oldest_available_timestamp = datetime.datetime.fromtimestamp(int(row1[0]) // 1000)\n",
    "except FileNotFoundError:\n",
    "    print('.csv not found, querying data...')\n",
    "    candles = get_and_overwrite_data(earliest_required_timestamp, datetime.datetime.now())\n",
    "    oldest_available_timestamp = datetime.datetime.fromtimestamp(int(candles[-1][0]) // 1000)\n",
    "\n",
    "if earliest_required_timestamp < oldest_available_timestamp:\n",
    "    # We have insufficient data in our csv\n",
    "    get_and_merge_data(earliest_required_timestamp, oldest_available_timestamp)\n",
    "    "
   ]
  },
  {
   "cell_type": "code",
   "execution_count": 15,
   "metadata": {},
   "outputs": [
    {
     "output_type": "stream",
     "name": "stdout",
     "text": [
      "2021-06-11 10:50:00\n2021-06-11 10:50:00\n2021-06-11 10:45:00\n2021-06-11 10:40:00\n"
     ]
    }
   ],
   "source": [
    "print(data.datetime.datetime(0))\n",
    "print(data.datetime.datetime(0))\n",
    "print(data.datetime.datetime(-1))\n",
    "print(data.datetime.datetime(-2))\n"
   ]
  },
  {
   "cell_type": "code",
   "execution_count": 59,
   "metadata": {},
   "outputs": [],
   "source": [
    "%reset"
   ]
  },
  {
   "cell_type": "code",
   "execution_count": null,
   "metadata": {},
   "outputs": [],
   "source": []
  }
 ]
}