{
 "metadata": {
  "language_info": {
   "codemirror_mode": {
    "name": "ipython",
    "version": 3
   },
   "file_extension": ".py",
   "mimetype": "text/x-python",
   "name": "python",
   "nbconvert_exporter": "python",
   "pygments_lexer": "ipython3",
   "version": "3.7.6"
  },
  "orig_nbformat": 2,
  "kernelspec": {
   "name": "python376jvsc74a57bd0051b3c9a86f7777a369bc4e854203663a9137e925908725807819b23aaa44bbe",
   "display_name": "Python 3.7.6 64-bit ('base': conda)"
  }
 },
 "nbformat": 4,
 "nbformat_minor": 2,
 "cells": [
  {
   "cell_type": "code",
   "execution_count": 1,
   "metadata": {},
   "outputs": [],
   "source": [
    "import os\n",
    "import sys\n",
    "module_path = os.path.abspath(os.path.join('..'))\n",
    "if module_path not in sys.path:\n",
    "    sys.path.append(module_path)\n",
    "\n",
    "from workspace.lib.scraper import get_candles, get_exchange\n",
    "from workspace.lib.utils import construct_csv_path, write_to_csv\n",
    "from pathlib import Path\n",
    "import datetime"
   ]
  },
  {
   "cell_type": "code",
   "execution_count": 2,
   "metadata": {},
   "outputs": [],
   "source": [
    "exchange = get_exchange('ftx')\n",
    "_ = exchange.loadMarkets()"
   ]
  },
  {
   "cell_type": "code",
   "execution_count": 3,
   "metadata": {},
   "outputs": [
    {
     "output_type": "execute_result",
     "data": {
      "text/plain": [
       "{'15s': '15',\n",
       " '1m': '60',\n",
       " '5m': '300',\n",
       " '15m': '900',\n",
       " '1h': '3600',\n",
       " '4h': '14400',\n",
       " '1d': '86400'}"
      ]
     },
     "metadata": {},
     "execution_count": 3
    }
   ],
   "source": [
    "exchange.timeframes"
   ]
  },
  {
   "cell_type": "code",
   "execution_count": 4,
   "metadata": {},
   "outputs": [
    {
     "output_type": "stream",
     "name": "stdout",
     "text": [
      "Fetching 5m candles from FTX for BTC-PERP\n288 candles obtained\n"
     ]
    }
   ],
   "source": [
    "delta = datetime.timedelta(days=1)\n",
    "from_datetime = datetime.datetime.now() - delta\n",
    "to_datetime = datetime.datetime.now()\n",
    "pair_id = 'BTC-PERP'\n",
    "timeframe = '5m'\n",
    "candles = get_candles(exchange, pair_id, timeframe, from_datetime, to_datetime, logger=print)\n",
    "\n",
    "base_path = Path('../data/')\n",
    "full_path = construct_csv_path(base_path, exchange.id, pair_id, timeframe)\n",
    "\n",
    "write_to_csv(full_path, candles)"
   ]
  },
  {
   "cell_type": "code",
   "execution_count": 21,
   "metadata": {},
   "outputs": [],
   "source": [
    "%reset"
   ]
  },
  {
   "cell_type": "code",
   "execution_count": null,
   "metadata": {},
   "outputs": [],
   "source": []
  }
 ]
}