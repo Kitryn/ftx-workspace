{
 "metadata": {
  "language_info": {
   "codemirror_mode": {
    "name": "ipython",
    "version": 3
   },
   "file_extension": ".py",
   "mimetype": "text/x-python",
   "name": "python",
   "nbconvert_exporter": "python",
   "pygments_lexer": "ipython3",
   "version": "3.7.6"
  },
  "orig_nbformat": 2,
  "kernelspec": {
   "name": "python376jvsc74a57bd0051b3c9a86f7777a369bc4e854203663a9137e925908725807819b23aaa44bbe",
   "display_name": "Python 3.7.6 64-bit ('base': conda)"
  }
 },
 "nbformat": 4,
 "nbformat_minor": 2,
 "cells": [
  {
   "cell_type": "code",
   "execution_count": 3,
   "metadata": {},
   "outputs": [],
   "source": [
    "import numpy as np\n",
    "import pandas as pd\n",
    "import ccxt\n",
    "import csv\n",
    "import json\n",
    "import datetime\n",
    "import backtrader as bt\n",
    "from pathlib import Path\n",
    "\n",
    "exchange = ccxt.ftx({\n",
    "    'enableRateLimit': True,\n",
    "    'options': {\n",
    "        'adjustForTimeDifference': True\n",
    "    }\n",
    "})\n",
    "_ =exchange.loadMarkets()\n",
    "milliseconds = {key: int(value) * 1000 for key, value in exchange.timeframes.items()}\n"
   ]
  },
  {
   "cell_type": "code",
   "execution_count": 6,
   "metadata": {},
   "outputs": [],
   "source": [
    "def retryFetchOHLCV(exchange, max_retries, symbol, timeframe, since):\n",
    "    numRetries = 0\n",
    "    OHLCV = None\n",
    "    while OHLCV is None:\n",
    "        try:\n",
    "            numRetries += 1\n",
    "            OHLCV = exchange.fetchOHLCV(symbol, timeframe, since, 700)\n",
    "            return OHLCV\n",
    "        except Exception as e:\n",
    "            if numRetries > max_retries:\n",
    "                raise e\n",
    "\n",
    "def getCandles(exchange, maxRetries, symbol, timeframe, fromDatetime, toDatetime):\n",
    "    since = fromDatetime.timestamp() * 1000\n",
    "    to = toDatetime.timestamp() * 1000\n",
    "    candles = []\n",
    "    last = milliseconds[timeframe]\n",
    "    while since < to:\n",
    "        OHLCV = retryFetchOHLCV(exchange, maxRetries, symbol, timeframe, since)\n",
    "        print('%s candles obtained' % (len(OHLCV)))\n",
    "        if not len(OHLCV):\n",
    "            break\n",
    "        candles += OHLCV\n",
    "        since = candles[-1][0]\n",
    "        if since >= (to - last):\n",
    "            break\n",
    "    return candles\n",
    "\n",
    "def writeToCSV(filename, data):\n",
    "    p = Path('../data/')\n",
    "    p.mkdir(parents=True, exist_ok=True)\n",
    "    fullPath = p / filename\n",
    "    with fullPath.open('w', newline='') as f:\n",
    "        fieldNames = ['timestamp', 'open', 'high', 'low', 'close', 'volume']\n",
    "        csvWriter = csv.writer(f)\n",
    "        csvWriter.writerow(fieldNames)\n",
    "        csvWriter.writerows(data)"
   ]
  },
  {
   "cell_type": "code",
   "execution_count": 7,
   "metadata": {},
   "outputs": [
    {
     "output_type": "stream",
     "name": "stdout",
     "text": [
      "288 candles obtained\n"
     ]
    }
   ],
   "source": [
    "delta = datetime.timedelta(days=1)\n",
    "fromDateTime = datetime.datetime.now() - delta\n",
    "toDateTime = datetime.datetime.now()\n",
    "\n",
    "candleData = getCandles(exchange, 3, 'BTC-PERP', '5m', fromDateTime, toDateTime)\n",
    "writeToCSV('FTX-BTCPERP-12w-5m.csv', candleData)"
   ]
  },
  {
   "cell_type": "code",
   "execution_count": null,
   "metadata": {},
   "outputs": [],
   "source": []
  }
 ]
}